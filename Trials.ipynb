{
 "cells": [
  {
   "cell_type": "code",
   "execution_count": 2,
   "outputs": [
    {
     "data": {
      "text/plain": "         STA     YOF  AGE    IAS            IND  SIZ         FUN  \\\n0    Success     NaN  NaN   -1.0     Operations   No    450000.0   \n1    Success  2010.0  4.0  140.0     Operations   No   6300000.0   \n2    Success  2011.0  3.0  374.0     Operations  Yes     60000.0   \n3    Success  2012.0  2.0   98.0     Operations   No         NaN   \n4    Success  2013.0  1.0    NaN     Operations   No         NaN   \n..       ...     ...  ...    ...            ...  ...         ...   \n467   Failed  2007.0  7.0   -2.0            NaN  NaN   1512066.0   \n468   Failed     NaN  NaN  -61.0            NaN  NaN   5000000.0   \n469   Failed     NaN  NaN    NaN            NaN  NaN         NaN   \n470   Failed  2008.0  6.0  -53.0  Server Design  NaN  55000000.0   \n471   Failed     NaN  NaN    NaN      Targeting  NaN         NaN   \n\n               COU            CON  INS  ...      PSD.1  PSL.1  PSC.1  PSF  \\\n0    United States  North America  2.0  ...   0.000000    0.0    0.0  0.0   \n1    United States  North America  0.0  ...   0.000000    0.0    0.0  0.0   \n2    United States  North America  1.0  ...  16.666667    0.0    0.0  0.0   \n3    United States  North America  5.0  ...   0.000000    0.0    0.0  0.0   \n4              NaN            NaN  1.0  ...   0.000000    0.0    0.0  0.0   \n..             ...            ...  ...  ...        ...    ...    ...  ...   \n467  United States  North America  NaN  ...        NaN    NaN    NaN  NaN   \n468  United States  North America  0.0  ...        NaN    NaN    NaN  NaN   \n469            NaN            NaN  NaN  ...        NaN    NaN    NaN  NaN   \n470  United States  North America  NaN  ...   5.882353    0.0    0.0  0.0   \n471            NaN            NaN  NaN  ...   2.777778    0.0    0.0  0.0   \n\n     PSI  PSR                       GSU                       GIN  \\\n0    0.0  0.0      Application Software                  Software   \n1    0.0  0.0      Application Software                  Software   \n2    0.0  2.0      Application Software                  Software   \n3    0.0  6.0      Application Software                  Software   \n4    0.0  0.0      Application Software                  Software   \n..   ...  ...                       ...                       ...   \n467  NaN  NaN                       NaN                       NaN   \n468  NaN  NaN                       NaN                       NaN   \n469  NaN  NaN                       NaN                       NaN   \n470  0.0  8.0  Communications Equipment  Communications Equipment   \n471  0.0  6.0               Advertising                     Media   \n\n                                 GIG                     GSE  \n0                Software & Services  Information Technology  \n1                Software & Services  Information Technology  \n2                Software & Services  Information Technology  \n3                Software & Services  Information Technology  \n4                Software & Services  Information Technology  \n..                               ...                     ...  \n467                              NaN                     NaN  \n468                              NaN                     NaN  \n469                              NaN                     NaN  \n470  Technology Hardware & Equipment  Information Technology  \n471            Media & Entertainment  Communication Services  \n\n[472 rows x 106 columns]",
      "text/html": "<div>\n<style scoped>\n    .dataframe tbody tr th:only-of-type {\n        vertical-align: middle;\n    }\n\n    .dataframe tbody tr th {\n        vertical-align: top;\n    }\n\n    .dataframe thead th {\n        text-align: right;\n    }\n</style>\n<table border=\"1\" class=\"dataframe\">\n  <thead>\n    <tr style=\"text-align: right;\">\n      <th></th>\n      <th>STA</th>\n      <th>YOF</th>\n      <th>AGE</th>\n      <th>IAS</th>\n      <th>IND</th>\n      <th>SIZ</th>\n      <th>FUN</th>\n      <th>COU</th>\n      <th>CON</th>\n      <th>INS</th>\n      <th>...</th>\n      <th>PSD.1</th>\n      <th>PSL.1</th>\n      <th>PSC.1</th>\n      <th>PSF</th>\n      <th>PSI</th>\n      <th>PSR</th>\n      <th>GSU</th>\n      <th>GIN</th>\n      <th>GIG</th>\n      <th>GSE</th>\n    </tr>\n  </thead>\n  <tbody>\n    <tr>\n      <td>0</td>\n      <td>Success</td>\n      <td>NaN</td>\n      <td>NaN</td>\n      <td>-1.0</td>\n      <td>Operations</td>\n      <td>No</td>\n      <td>450000.0</td>\n      <td>United States</td>\n      <td>North America</td>\n      <td>2.0</td>\n      <td>...</td>\n      <td>0.000000</td>\n      <td>0.0</td>\n      <td>0.0</td>\n      <td>0.0</td>\n      <td>0.0</td>\n      <td>0.0</td>\n      <td>Application Software</td>\n      <td>Software</td>\n      <td>Software &amp; Services</td>\n      <td>Information Technology</td>\n    </tr>\n    <tr>\n      <td>1</td>\n      <td>Success</td>\n      <td>2010.0</td>\n      <td>4.0</td>\n      <td>140.0</td>\n      <td>Operations</td>\n      <td>No</td>\n      <td>6300000.0</td>\n      <td>United States</td>\n      <td>North America</td>\n      <td>0.0</td>\n      <td>...</td>\n      <td>0.000000</td>\n      <td>0.0</td>\n      <td>0.0</td>\n      <td>0.0</td>\n      <td>0.0</td>\n      <td>0.0</td>\n      <td>Application Software</td>\n      <td>Software</td>\n      <td>Software &amp; Services</td>\n      <td>Information Technology</td>\n    </tr>\n    <tr>\n      <td>2</td>\n      <td>Success</td>\n      <td>2011.0</td>\n      <td>3.0</td>\n      <td>374.0</td>\n      <td>Operations</td>\n      <td>Yes</td>\n      <td>60000.0</td>\n      <td>United States</td>\n      <td>North America</td>\n      <td>1.0</td>\n      <td>...</td>\n      <td>16.666667</td>\n      <td>0.0</td>\n      <td>0.0</td>\n      <td>0.0</td>\n      <td>0.0</td>\n      <td>2.0</td>\n      <td>Application Software</td>\n      <td>Software</td>\n      <td>Software &amp; Services</td>\n      <td>Information Technology</td>\n    </tr>\n    <tr>\n      <td>3</td>\n      <td>Success</td>\n      <td>2012.0</td>\n      <td>2.0</td>\n      <td>98.0</td>\n      <td>Operations</td>\n      <td>No</td>\n      <td>NaN</td>\n      <td>United States</td>\n      <td>North America</td>\n      <td>5.0</td>\n      <td>...</td>\n      <td>0.000000</td>\n      <td>0.0</td>\n      <td>0.0</td>\n      <td>0.0</td>\n      <td>0.0</td>\n      <td>6.0</td>\n      <td>Application Software</td>\n      <td>Software</td>\n      <td>Software &amp; Services</td>\n      <td>Information Technology</td>\n    </tr>\n    <tr>\n      <td>4</td>\n      <td>Success</td>\n      <td>2013.0</td>\n      <td>1.0</td>\n      <td>NaN</td>\n      <td>Operations</td>\n      <td>No</td>\n      <td>NaN</td>\n      <td>NaN</td>\n      <td>NaN</td>\n      <td>1.0</td>\n      <td>...</td>\n      <td>0.000000</td>\n      <td>0.0</td>\n      <td>0.0</td>\n      <td>0.0</td>\n      <td>0.0</td>\n      <td>0.0</td>\n      <td>Application Software</td>\n      <td>Software</td>\n      <td>Software &amp; Services</td>\n      <td>Information Technology</td>\n    </tr>\n    <tr>\n      <td>...</td>\n      <td>...</td>\n      <td>...</td>\n      <td>...</td>\n      <td>...</td>\n      <td>...</td>\n      <td>...</td>\n      <td>...</td>\n      <td>...</td>\n      <td>...</td>\n      <td>...</td>\n      <td>...</td>\n      <td>...</td>\n      <td>...</td>\n      <td>...</td>\n      <td>...</td>\n      <td>...</td>\n      <td>...</td>\n      <td>...</td>\n      <td>...</td>\n      <td>...</td>\n      <td>...</td>\n    </tr>\n    <tr>\n      <td>467</td>\n      <td>Failed</td>\n      <td>2007.0</td>\n      <td>7.0</td>\n      <td>-2.0</td>\n      <td>NaN</td>\n      <td>NaN</td>\n      <td>1512066.0</td>\n      <td>United States</td>\n      <td>North America</td>\n      <td>NaN</td>\n      <td>...</td>\n      <td>NaN</td>\n      <td>NaN</td>\n      <td>NaN</td>\n      <td>NaN</td>\n      <td>NaN</td>\n      <td>NaN</td>\n      <td>NaN</td>\n      <td>NaN</td>\n      <td>NaN</td>\n      <td>NaN</td>\n    </tr>\n    <tr>\n      <td>468</td>\n      <td>Failed</td>\n      <td>NaN</td>\n      <td>NaN</td>\n      <td>-61.0</td>\n      <td>NaN</td>\n      <td>NaN</td>\n      <td>5000000.0</td>\n      <td>United States</td>\n      <td>North America</td>\n      <td>0.0</td>\n      <td>...</td>\n      <td>NaN</td>\n      <td>NaN</td>\n      <td>NaN</td>\n      <td>NaN</td>\n      <td>NaN</td>\n      <td>NaN</td>\n      <td>NaN</td>\n      <td>NaN</td>\n      <td>NaN</td>\n      <td>NaN</td>\n    </tr>\n    <tr>\n      <td>469</td>\n      <td>Failed</td>\n      <td>NaN</td>\n      <td>NaN</td>\n      <td>NaN</td>\n      <td>NaN</td>\n      <td>NaN</td>\n      <td>NaN</td>\n      <td>NaN</td>\n      <td>NaN</td>\n      <td>NaN</td>\n      <td>...</td>\n      <td>NaN</td>\n      <td>NaN</td>\n      <td>NaN</td>\n      <td>NaN</td>\n      <td>NaN</td>\n      <td>NaN</td>\n      <td>NaN</td>\n      <td>NaN</td>\n      <td>NaN</td>\n      <td>NaN</td>\n    </tr>\n    <tr>\n      <td>470</td>\n      <td>Failed</td>\n      <td>2008.0</td>\n      <td>6.0</td>\n      <td>-53.0</td>\n      <td>Server Design</td>\n      <td>NaN</td>\n      <td>55000000.0</td>\n      <td>United States</td>\n      <td>North America</td>\n      <td>NaN</td>\n      <td>...</td>\n      <td>5.882353</td>\n      <td>0.0</td>\n      <td>0.0</td>\n      <td>0.0</td>\n      <td>0.0</td>\n      <td>8.0</td>\n      <td>Communications Equipment</td>\n      <td>Communications Equipment</td>\n      <td>Technology Hardware &amp; Equipment</td>\n      <td>Information Technology</td>\n    </tr>\n    <tr>\n      <td>471</td>\n      <td>Failed</td>\n      <td>NaN</td>\n      <td>NaN</td>\n      <td>NaN</td>\n      <td>Targeting</td>\n      <td>NaN</td>\n      <td>NaN</td>\n      <td>NaN</td>\n      <td>NaN</td>\n      <td>NaN</td>\n      <td>...</td>\n      <td>2.777778</td>\n      <td>0.0</td>\n      <td>0.0</td>\n      <td>0.0</td>\n      <td>0.0</td>\n      <td>6.0</td>\n      <td>Advertising</td>\n      <td>Media</td>\n      <td>Media &amp; Entertainment</td>\n      <td>Communication Services</td>\n    </tr>\n  </tbody>\n</table>\n<p>472 rows × 106 columns</p>\n</div>"
     },
     "execution_count": 2,
     "metadata": {},
     "output_type": "execute_result"
    }
   ],
   "source": [
    "import pandas as pd\n",
    "import numpy as np\n",
    "import matplotlib.pyplot as plt\n",
    "\n",
    "# Graph 1 (Stacked Bar: YOF and STA):\n",
    "df_base = pd.read_csv(\"CAX_Preprocessed_PROG.csv\")\n",
    "df_ind = pd.read_csv(\"GICS_Industry.csv\")\n",
    "df = df_base.merge(df_ind, on='IND')\n",
    "df"
   ],
   "metadata": {
    "collapsed": false,
    "pycharm": {
     "name": "#%%\n"
    }
   }
  },
  {
   "cell_type": "code",
   "execution_count": 3,
   "outputs": [
    {
     "name": "stdout",
     "output_type": "stream",
     "text": [
      "[1997. 1999. 2000. 2002. 2003. 2004. 2005. 2006. 2007. 2008. 2009. 2010.\n",
      " 2011. 2012. 2013.   nan]\n",
      "[ 0.  1.  3.  3.  1.  0. 12.  4. 22. 17. 33. 60. 55. 68. 18.]\n",
      "[ 1.  0.  1.  0.  1.  2. 11. 10. 20. 16. 16. 16. 15.  5.  2.]\n",
      "[1997 1999 2000 2002 2003 2004 2005 2006 2007 2008 2009 2010 2011 2012\n",
      " 2013]\n"
     ]
    }
   ],
   "source": [
    "yof_list = np.sort(df['YOF'].drop_duplicates())\n",
    "print(yof_list)\n",
    "\n",
    "year_success = np.zeros(len(yof_list))\n",
    "year_failed = np.zeros(len(yof_list))\n",
    "for y_s1 in range(len(yof_list)):\n",
    "    for y_s2 in range(len(df['STA'])):\n",
    "        if df['STA'][y_s2] == 'Success' and df['YOF'][y_s2] == yof_list[y_s1]:\n",
    "            year_success[y_s1] += 1\n",
    "        elif df['STA'][y_s2] == 'Failed' and df['YOF'][y_s2] == yof_list[y_s1]:\n",
    "            year_failed[y_s1] += 1\n",
    "\n",
    "year_success = np.delete(year_success, 15)\n",
    "year_failed = np.delete(year_failed, 15)\n",
    "yof_list = np.asarray(np.delete(yof_list, 15), dtype=int)\n",
    "\n",
    "print(year_success)\n",
    "print(year_failed)\n",
    "print(yof_list)"
   ],
   "metadata": {
    "collapsed": false,
    "pycharm": {
     "name": "#%%\n"
    }
   }
  },
  {
   "cell_type": "code",
   "source": [
    "\n",
    "pivot_YOFSTA = pd.pivot_table(df, values='GIG', index='YOF', columns='STA',\n",
    "                        aggfunc=np.count_nonzero, fill_value=0)"
   ],
   "metadata": {
    "collapsed": false,
    "pycharm": {
     "name": "#%%\n"
    }
   },
   "execution_count": 4,
   "outputs": []
  },
  {
   "cell_type": "code",
   "execution_count": 5,
   "outputs": [
    {
     "data": {
      "text/plain": "<Figure size 432x288 with 1 Axes>",
      "image/png": "[encoded data removed]"
     },
     "metadata": {},
     "output_type": "display_data"
    }
   ],
   "source": [
    "pivot_GSESTA = pd.pivot_table(df, values='YOF', index='GSE', columns='STA',\n",
    "                        aggfunc=np.count_nonzero, fill_value=0, margins=True)\n",
    "pivot_GSESTA = pivot_GSESTA.iloc[:-1].sort_values(by='All')\n",
    "\n",
    "figure2, ax2 = plt.subplots()\n",
    "plt.style.use('seaborn')\n",
    "labels = list(pivot_GSESTA.index)\n",
    "colors = ['#f1f1f1', '#63ffb3', '#00e4b7', '#00c8b7', '#00abb0',\n",
    "          '#008fa3', '#007390', '#005878', '#003f5c']\n",
    "ax2.pie(pivot_GSESTA['All'], labels=labels, autopct='%1.1f%%',\n",
    "        shadow=True, startangle=180, pctdistance=1.15, labeldistance=1.25, colors=colors)\n",
    "ax2.axis('equal')\n",
    "\n",
    "plt.show()\n"
   ],
   "metadata": {
    "collapsed": false,
    "pycharm": {
     "name": "#%%\n"
    }
   }
  },
  {
   "cell_type": "code",
   "execution_count": 6,
   "outputs": [
    {
     "name": "stdout",
     "output_type": "stream",
     "text": [
      "['Communication Services', 'Consumer Discretionary', 'Energy', 'Financials', 'Health Care', 'Industrials', 'Information Technology', 'Real Estate', 'Utilities']\n"
     ]
    }
   ],
   "source": [
    "OptionList = list(df['GSE'].drop_duplicates().sort_values().iloc[:-1])\n",
    "print(OptionList)\n",
    "\n",
    "sectors = list(df['GSE'].drop_duplicates())\n"
   ],
   "metadata": {
    "collapsed": false,
    "pycharm": {
     "name": "#%%\n"
    }
   }
  },
  {
   "cell_type": "code",
   "execution_count": 7,
   "outputs": [
    {
     "data": {
      "text/plain": "STA                                        Failed       Success           All  \\\nGSU                                                                             \nAdvertising                          6.880167e+06  4.295307e+06  5.070765e+06   \nInteractive Home Entertainment       4.060000e+05  6.000000e+06  2.270667e+06   \nInteractive Media & Services         3.579367e+06  5.000000e+05  3.271430e+06   \nMovies & Entertainment               2.150450e+07  1.190000e+07  1.830300e+07   \nPublishing                           0.000000e+00  1.000000e+07  1.000000e+07   \nWireless Telecommunication Services  0.000000e+00  1.000000e+07  1.000000e+07   \nAll                                  7.360221e+06  4.806310e+06  5.846792e+06   \n\nSTA                                  Last Fund. ($MM avg.)  \nGSU                                                         \nAdvertising                                          11.18  \nInteractive Home Entertainment                        6.41  \nInteractive Media & Services                          4.08  \nMovies & Entertainment                               33.40  \nPublishing                                           10.00  \nWireless Telecommunication Services                  10.00  \nAll                                                  12.17  ",
      "text/html": "<div>\n<style scoped>\n    .dataframe tbody tr th:only-of-type {\n        vertical-align: middle;\n    }\n\n    .dataframe tbody tr th {\n        vertical-align: top;\n    }\n\n    .dataframe thead th {\n        text-align: right;\n    }\n</style>\n<table border=\"1\" class=\"dataframe\">\n  <thead>\n    <tr style=\"text-align: right;\">\n      <th>STA</th>\n      <th>Failed</th>\n      <th>Success</th>\n      <th>All</th>\n      <th>Last Fund. ($MM avg.)</th>\n    </tr>\n    <tr>\n      <th>GSU</th>\n      <th></th>\n      <th></th>\n      <th></th>\n      <th></th>\n    </tr>\n  </thead>\n  <tbody>\n    <tr>\n      <td>Advertising</td>\n      <td>6.880167e+06</td>\n      <td>4.295307e+06</td>\n      <td>5.070765e+06</td>\n      <td>11.18</td>\n    </tr>\n    <tr>\n      <td>Interactive Home Entertainment</td>\n      <td>4.060000e+05</td>\n      <td>6.000000e+06</td>\n      <td>2.270667e+06</td>\n      <td>6.41</td>\n    </tr>\n    <tr>\n      <td>Interactive Media &amp; Services</td>\n      <td>3.579367e+06</td>\n      <td>5.000000e+05</td>\n      <td>3.271430e+06</td>\n      <td>4.08</td>\n    </tr>\n    <tr>\n      <td>Movies &amp; Entertainment</td>\n      <td>2.150450e+07</td>\n      <td>1.190000e+07</td>\n      <td>1.830300e+07</td>\n      <td>33.40</td>\n    </tr>\n    <tr>\n      <td>Publishing</td>\n      <td>0.000000e+00</td>\n      <td>1.000000e+07</td>\n      <td>1.000000e+07</td>\n      <td>10.00</td>\n    </tr>\n    <tr>\n      <td>Wireless Telecommunication Services</td>\n      <td>0.000000e+00</td>\n      <td>1.000000e+07</td>\n      <td>1.000000e+07</td>\n      <td>10.00</td>\n    </tr>\n    <tr>\n      <td>All</td>\n      <td>7.360221e+06</td>\n      <td>4.806310e+06</td>\n      <td>5.846792e+06</td>\n      <td>12.17</td>\n    </tr>\n  </tbody>\n</table>\n</div>"
     },
     "execution_count": 7,
     "metadata": {},
     "output_type": "execute_result"
    }
   ],
   "source": [
    "\n",
    "selected_sector = 'Communication Services'\n",
    "\n",
    "df_sector = df[df['GSE'] == selected_sector]\n",
    "pivot_sector1 = pd.pivot_table(df_sector, values='FUN',\n",
    "                               index=(['GSU']),\n",
    "                               columns=['STA'],\n",
    "                               aggfunc=np.nanmean,\n",
    "                               fill_value=0, margins=True)\n",
    "\n",
    "pivot_sector1[\"Last Fund. ($MM avg.)\"] = \\\n",
    "    round((pivot_sector1[\"Failed\"] + pivot_sector1[\"Success\"]) / 1000000, 2)\n",
    "pivot_sector1"
   ],
   "metadata": {
    "collapsed": false,
    "pycharm": {
     "name": "#%%\n"
    }
   }
  },
  {
   "cell_type": "code",
   "source": [
    "# Number of companies\n",
    "# Number of countries\n",
    "# Success rate\n",
    "# Avg. amount of funding raised\n",
    "# Avg. investors per company\n",
    "# Avg. advisors per company\n",
    "\n",
    "df_dict = pd.read_csv(\"CAX_Summary_Sector.csv\", index_col =\"Sector\")\n",
    "df_dict"
   ],
   "metadata": {
    "collapsed": false,
    "pycharm": {
     "name": "#%%\n"
    }
   },
   "execution_count": 8,
   "outputs": [
    {
     "data": {
      "text/plain": "                        Companies  Countries  Success rate  \\\nSector                                                       \nCommunication Services        131          9      0.534351   \nConsumer Discretionary         81          7      0.604938   \nEnergy                          4          1      0.250000   \nFinancials                      3          1      0.666667   \nHealth Care                     8          2      0.625000   \nIndustrials                    12          4      0.750000   \nInformation Technology        216         18      0.759259   \nNaN                            11          1      1.000000   \nReal Estate                     2          1      1.000000   \nUtilities                       4          1      0.750000   \nAll                           472         22      0.646186   \n\n                        Avg. amount of funding raised  Avg. investors  \\\nSector                                                                  \nCommunication Services                       5.846792               2   \nConsumer Discretionary                       3.282460               3   \nEnergy                                       4.921250               1   \nFinancials                                  12.633333               1   \nHealth Care                                  9.585714               2   \nIndustrials                                  3.956833               3   \nInformation Technology                       7.542759               3   \nNaN                                          3.802413               1   \nReal Estate                                  3.500000               1   \nUtilities                                   11.750000               2   \nAll                                          6.379489               3   \n\n                        Avg. advisors  \nSector                                 \nCommunication Services              1  \nConsumer Discretionary              1  \nEnergy                              2  \nFinancials                          6  \nHealth Care                         1  \nIndustrials                         2  \nInformation Technology              2  \nNaN                                 1  \nReal Estate                         1  \nUtilities                           1  \nAll                                 2  ",
      "text/html": "<div>\n<style scoped>\n    .dataframe tbody tr th:only-of-type {\n        vertical-align: middle;\n    }\n\n    .dataframe tbody tr th {\n        vertical-align: top;\n    }\n\n    .dataframe thead th {\n        text-align: right;\n    }\n</style>\n<table border=\"1\" class=\"dataframe\">\n  <thead>\n    <tr style=\"text-align: right;\">\n      <th></th>\n      <th>Companies</th>\n      <th>Countries</th>\n      <th>Success rate</th>\n      <th>Avg. amount of funding raised</th>\n      <th>Avg. investors</th>\n      <th>Avg. advisors</th>\n    </tr>\n    <tr>\n      <th>Sector</th>\n      <th></th>\n      <th></th>\n      <th></th>\n      <th></th>\n      <th></th>\n      <th></th>\n    </tr>\n  </thead>\n  <tbody>\n    <tr>\n      <td>Communication Services</td>\n      <td>131</td>\n      <td>9</td>\n      <td>0.534351</td>\n      <td>5.846792</td>\n      <td>2</td>\n      <td>1</td>\n    </tr>\n    <tr>\n      <td>Consumer Discretionary</td>\n      <td>81</td>\n      <td>7</td>\n      <td>0.604938</td>\n      <td>3.282460</td>\n      <td>3</td>\n      <td>1</td>\n    </tr>\n    <tr>\n      <td>Energy</td>\n      <td>4</td>\n      <td>1</td>\n      <td>0.250000</td>\n      <td>4.921250</td>\n      <td>1</td>\n      <td>2</td>\n    </tr>\n    <tr>\n      <td>Financials</td>\n      <td>3</td>\n      <td>1</td>\n      <td>0.666667</td>\n      <td>12.633333</td>\n      <td>1</td>\n      <td>6</td>\n    </tr>\n    <tr>\n      <td>Health Care</td>\n      <td>8</td>\n      <td>2</td>\n      <td>0.625000</td>\n      <td>9.585714</td>\n      <td>2</td>\n      <td>1</td>\n    </tr>\n    <tr>\n      <td>Industrials</td>\n      <td>12</td>\n      <td>4</td>\n      <td>0.750000</td>\n      <td>3.956833</td>\n      <td>3</td>\n      <td>2</td>\n    </tr>\n    <tr>\n      <td>Information Technology</td>\n      <td>216</td>\n      <td>18</td>\n      <td>0.759259</td>\n      <td>7.542759</td>\n      <td>3</td>\n      <td>2</td>\n    </tr>\n    <tr>\n      <td>NaN</td>\n      <td>11</td>\n      <td>1</td>\n      <td>1.000000</td>\n      <td>3.802413</td>\n      <td>1</td>\n      <td>1</td>\n    </tr>\n    <tr>\n      <td>Real Estate</td>\n      <td>2</td>\n      <td>1</td>\n      <td>1.000000</td>\n      <td>3.500000</td>\n      <td>1</td>\n      <td>1</td>\n    </tr>\n    <tr>\n      <td>Utilities</td>\n      <td>4</td>\n      <td>1</td>\n      <td>0.750000</td>\n      <td>11.750000</td>\n      <td>2</td>\n      <td>1</td>\n    </tr>\n    <tr>\n      <td>All</td>\n      <td>472</td>\n      <td>22</td>\n      <td>0.646186</td>\n      <td>6.379489</td>\n      <td>3</td>\n      <td>2</td>\n    </tr>\n  </tbody>\n</table>\n</div>"
     },
     "execution_count": 8,
     "metadata": {},
     "output_type": "execute_result"
    }
   ]
  },
  {
   "cell_type": "code",
   "execution_count": 9,
   "outputs": [
    {
     "name": "stdout",
     "output_type": "stream",
     "text": [
      "131 9 53.44 5.85 2 1\n"
     ]
    }
   ],
   "source": [
    "sector = 'Communication Services'\n",
    "\n",
    "companies = int(np.asarray(df_dict.loc[[sector], ['Companies']]))\n",
    "countries = int(np.asarray(df_dict.loc[[sector], ['Countries']]))\n",
    "success_rate = round(float(np.asarray(df_dict.loc[[sector], ['Success rate']]))*100, 2)\n",
    "funding = round(float(np.asarray(df_dict.loc[[sector], ['Avg. amount of funding raised']])), 2)\n",
    "investors = int(np.asarray(df_dict.loc[[sector], ['Avg. investors']]))\n",
    "advisors = int(np.asarray(df_dict.loc[[sector], ['Avg. advisors']]))\n",
    "\n",
    "print(companies, countries, success_rate, funding, investors, advisors)\n"
   ],
   "metadata": {
    "collapsed": false,
    "pycharm": {
     "name": "#%%\n"
    }
   }
  },
  {
   "cell_type": "markdown",
   "source": [
    "def vmb_model():\n",
    "    value1 = cb_input_sector.get()\n",
    "    # input2 = cb_value_proof2.get()\n",
    "    global list_proof2\n",
    "    options_proof = list_proof2\n",
    "    choices = [6, 7, 8]\n",
    "    calculation = 0\n",
    "\n",
    "    for i in range(len(options_proof)):\n",
    "        if options_proof[i] == input2:\n",
    "            value2 = choices[i]\n",
    "            calculation = '%s and %s'\n",
    "\n",
    "    label_results.configure(text='Result = %s' % calculation)\n"
   ],
   "metadata": {
    "collapsed": false,
    "pycharm": {
     "name": "#%% md\n",
     "is_executing": true
    }
   }
  },
  {
   "cell_type": "code",
   "execution_count": 10,
   "outputs": [
    {
     "name": "stdout",
     "output_type": "stream",
     "text": [
      "['Real Estate Services']\n"
     ]
    }
   ],
   "source": [
    "dict_sectors = {'Communication Services': ['Advertising', 'Broadcasting', 'Interactive Home Entertainment',\n",
    "                                               'Interactive Media & Services', 'Movies & Entertainment',\n",
    "                                               'Publishing', 'Wireless Telecommunication Services'],\n",
    "                    'Information Technology': ['Application Software', 'Communications Equipment',\n",
    "                                               'Data Processing & Outsourced Services', 'Systems Software'],\n",
    "                    'Industrials': ['Air Freight & Logistics', 'Human Resource & Employment Services',\n",
    "                                    'Research & Consulting Services'],\n",
    "                    'Utilities': ['Renewable Electricity'],\n",
    "                    'Consumer Discretionary': ['Education Services', 'General Merchandise Stores',\n",
    "                                               'Hotels, Resorts & Cruise Lines',\n",
    "                                               'Internet & Direct Marketing Retail',\n",
    "                                               'Restaurants', 'Specialized Consumer Services'],\n",
    "                    'Energy': ['Oil & Gas Equipment & Services'],\n",
    "                    'Financials': ['Financial Exchanges & Data'],\n",
    "                    'Health Care': ['Health Care Technology'],\n",
    "                    'Real Estate':['Real Estate Services']\n",
    "                    }\n",
    "list_sectors = list(dict_sectors.keys())\n",
    "sector_selection = \"Real Estate\"\n",
    "list_subindustries = dict_sectors.get(sector_selection)\n",
    "print(list_subindustries)"
   ],
   "metadata": {
    "collapsed": false,
    "pycharm": {
     "name": "#%%\n"
    }
   }
  },
  {
   "cell_type": "code",
   "execution_count": 11,
   "outputs": [
    {
     "name": "stdout",
     "output_type": "stream",
     "text": [
      "['Real Estate Services']\n"
     ]
    }
   ],
   "source": [
    "from VMB_Generators.Industry_Selection import *\n",
    "\n",
    "print(Get_Subindustry(sector_selection))"
   ],
   "metadata": {
    "collapsed": false,
    "pycharm": {
     "name": "#%%\n"
    }
   }
  },
  {
   "cell_type": "code",
   "execution_count": 28,
   "outputs": [
    {
     "name": "stdout",
     "output_type": "stream",
     "text": [
      "['High', 'Medium', 'Low']\n",
      "[0, 2, 1]\n",
      "0\n"
     ]
    }
   ],
   "source": [
    "dict_AYE = {'High': 0, 'Medium': 2, 'Low': 1}\n",
    "keys_AYE = list(dict_AYE.keys())\n",
    "print(keys_AYE)\n",
    "values_AYE = list(dict_AYE.values())\n",
    "print(values_AYE)\n",
    "print(dict_AYE.get('High'))\n"
   ],
   "metadata": {
    "collapsed": false,
    "pycharm": {
     "name": "#%%\n"
    }
   }
  },
  {
   "cell_type": "code",
   "execution_count": 13,
   "outputs": [
    {
     "name": "stdout",
     "output_type": "stream",
     "text": [
      "Medium\n"
     ]
    }
   ],
   "source": [
    "def LookUp_in_dict(dictionary, value):\n",
    "    keys_list = list(dictionary.keys())\n",
    "    values_list = list(dictionary.values())\n",
    "    try:\n",
    "        index_list = values_list.index(value)\n",
    "        key_list = keys_list[index_list]\n",
    "        return key_list\n",
    "    except ValueError:\n",
    "        print(\"List does not contain value\")\n",
    "        pass\n",
    "\n",
    "value1 = 2\n",
    "print(LookUp_in_dict(dict_AYE, value1))"
   ],
   "metadata": {
    "collapsed": false,
    "pycharm": {
     "name": "#%%\n"
    }
   }
  },
  {
   "cell_type": "code",
   "execution_count": 26,
   "outputs": [
    {
     "name": "stdout",
     "output_type": "stream",
     "text": [
      "Forecast: Keep trying\n",
      "Precision = 88.08%\n"
     ]
    }
   ],
   "source": [
    "from VMB_Generators.Model_Generator import *\n",
    "\n",
    "example = np.reshape(np.array([0,0,1,1,2,0,1,0,1,0,1,0]),(1,12))   # Successful\n",
    "example1 = np.reshape(np.array([0,0,0,0,0,0,0,0,0,0,0,0]),(1,12))  # Keep trying!\n",
    "\n",
    "forecast_nr, precision = get_classification(example1)\n",
    "forecast = ''\n",
    "if forecast_nr == 0:\n",
    "    forecast = 'Keep trying'\n",
    "elif forecast_nr == 1:\n",
    "    forecast = 'Successful'\n",
    "print('Forecast: %s' % forecast)\n",
    "print('Precision = %.2f%%' % (precision*100))\n"
   ],
   "metadata": {
    "collapsed": false,
    "pycharm": {
     "name": "#%%\n"
    }
   }
  }
 ],
 "metadata": {
  "kernelspec": {
   "display_name": "Python 3",
   "language": "python",
   "name": "python3"
  },
  "language_info": {
   "codemirror_mode": {
    "name": "ipython",
    "version": 2
   },
   "file_extension": ".py",
   "mimetype": "text/x-python",
   "name": "python",
   "nbconvert_exporter": "python",
   "pygments_lexer": "ipython2",
   "version": "2.7.6"
  }
 },
 "nbformat": 4,
 "nbformat_minor": 0
}