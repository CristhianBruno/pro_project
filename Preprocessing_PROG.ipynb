{
 "cells": [
  {
   "cell_type": "markdown",
   "source": [
    "## Programing - Final Project - UNIL - MSc. in Finance - May 2020\n",
    "### Group members: Valeria Medinaceli, Martin Ruilova, and Bruno Ayllon.\n",
    "---\n",
    "\n",
    "This scripts is designed to obtain the data base using the Kaggle's API\n",
    "and run the pre-processing algorithm.\n"
   ],
   "metadata": {
    "collapsed": false,
    "pycharm": {
     "name": "#%% md\n"
    }
   }
  },
  {
   "cell_type": "code",
   "execution_count": 1,
   "metadata": {
    "collapsed": true,
    "pycharm": {
     "name": "#%%\n"
    }
   },
   "outputs": [
    {
     "name": "stdout",
     "output_type": "stream",
     "text": [
      "Warning: Your Kaggle API key is readable by other users on this system! To fix this, you can run 'chmod 600 /Users/cristhianbruno/.kaggle/kaggle.json'\r\n",
      "Downloading CAX_Startup_Data.csv to .\r\n",
      "  0%|                                                | 0.00/309k [00:00<?, ?B/s]\r\n",
      "100%|████████████████████████████████████████| 309k/309k [00:00<00:00, 8.00MB/s]\r\n"
     ]
    }
   ],
   "source": [
    "# ATTENTION!\n",
    "# Please carefully read the README file first\n",
    "\n",
    "# Import the external dependencies:\n",
    "import pandas as pd\n",
    "import os\n",
    "\n",
    "# Create a function to set up the API\n",
    "\n",
    "\n",
    "def extract_data(file_name, file_path):\n",
    "# Copy the API from the wanted source\n",
    "    !kaggle datasets download -d ajaygorkar/startup-analysis -f $file_name -p $file_path --force\n",
    "\n",
    "\n",
    "data = 'CAX_Startup_Data.csv'\n",
    "\n",
    "# Guide the API where to download the CSV file\n",
    "data_path = os.path.join(os.path.curdir)\n",
    "database = extract_data(data,data_path)"
   ]
  },
  {
   "cell_type": "code",
   "execution_count": 2,
   "outputs": [],
   "source": [
    "# Load the data into a pandas DataFrame\n",
    "# Replace all missing information with NaN\n",
    "miss = ['No Info','unknown amount']\n",
    "df = pd.read_csv('CAX_Startup_Data.csv', na_values= miss)\n",
    "\n",
    "# Work on the feature Industry of Company\n",
    "# Replace NaN with 0 to make the work easier\n",
    "df['Industry of company'] = df['Industry of company'].fillna(0)\n",
    "\n",
    "# Combine values from two desired features\n",
    "df.loc[df['Industry of company'] != 0,'Industry'] = df['Industry of company']\n",
    "df.loc[df['Industry of company'] == 0,'Industry'] = df['Focus functions of company']\n",
    "\n",
    "# Replace the created one into the original\n",
    "df['Industry of company'] = df['Industry']\n",
    "# Split names with a pipe, removing all character beyond it\n",
    "sp_vol1 = df['Industry of company']\n",
    "sp_vol2 = sp_vol1.str.split(pat= '|',n= 3, expand= True)\n",
    "# Replace the created one into the original\n",
    "df['Industry of company'] = sp_vol2[0]\n",
    "\n",
    "# Checking for features with a lot of missing values\n",
    "nan_values = pd.DataFrame(df.isnull().sum(),columns=[\"Null Values\"])\n",
    "nan_values[\"% NaN Values\"] = (df.isna().sum()/len(df)*100)\n",
    "nan_values[\"% NaN Values\"].sort_values(ascending= False)\n",
    "# Separate features with more than 35% of missing values\n",
    "features_delete = nan_values.loc[nan_values[\"% NaN Values\"] >= 35]\n",
    "# Delete the mentioned features plus irrelevant ones\n",
    "df.drop(df.columns[[0, 5, 7, 8, 9, 10, 12, 13, 61, 79, 86, 95, 99, 100, 116]], axis= 1, inplace= True)\n",
    "\n",
    "# Correct typo mistakes, capital missuses, space problems and redefine industry categories\n",
    "df['Has the team size grown'].replace({'yes':'Yes'},inplace=True)\n",
    "df['Has the team size grown'].replace({'YES':'Yes'},inplace=True)\n",
    "df['Cloud or platform based serive/product?'].replace({'cloud':'Cloud'},inplace=True)\n",
    "df['Local or global player'].replace({'GLOBAL':'Global'},inplace=True)\n",
    "df['Local or global player'].replace({'GLObaL':'Global'},inplace=True)\n",
    "df['Local or global player'].replace({'global':'Global'},inplace=True)\n",
    "df['Local or global player'].replace({'local  ':'Local'},inplace=True)\n",
    "df['Local or global player'].replace({'local':'Local'},inplace=True)\n",
    "df['Local or global player'].replace({'LOCAL':'Local'},inplace=True)\n",
    "df['Number of  Sales Support material'].replace({'high':'High'},inplace=True)\n",
    "df['Number of  Sales Support material'].replace({'low':'Low'},inplace=True)\n",
    "df['Number of  Sales Support material'].replace({'medium':'Medium'},inplace=True)\n",
    "df['Focus on private or public data?'].replace({'no':'No'},inplace=True)\n",
    "df['Focus on structured or unstructured data'].replace({'not applicable':'No'},inplace=True)\n",
    "df['Focus on structured or unstructured data'].replace({'no':'No'},inplace=True)\n",
    "df['Cloud or platform based serive/product?'].replace({'none':'None'},inplace=True)\n",
    "df['Industry of company'].replace({'operation':'Operations'},inplace=True)\n",
    "df['Industry of company'].replace({'operations':'Operations'},inplace=True)\n",
    "df['Industry of company'].replace({'marketing':'Marketing'},inplace=True)\n",
    "df['Industry of company'].replace({'Market Research':'Marketing'},inplace=True)\n",
    "df['Industry of company'].replace({'Marketing,Sales,Risk,Operations':'Marketing'},inplace=True)\n",
    "df['Industry of company'].replace({'targeted marketing':'Marketing'},inplace=True)\n",
    "df['Industry of company'].replace({'marketing, sales':'Marketing'},inplace=True)\n",
    "df['Industry of company'].replace({'Marketing,Sales':'Marketing'},inplace=True)\n",
    "df['Industry of company'].replace({'Merchandising, Marketing':'Marketing'},inplace=True)\n",
    "df['Industry of company'].replace({'technology':'Analytics'},inplace=True)\n",
    "df['Industry of company'].replace({'analytics':'Analytics'},inplace=True)\n",
    "df['Industry of company'].replace({'sales':'Sales'},inplace=True)\n",
    "df['Industry of company'].replace({'software service':'Enterprise Software'},inplace=True)\n",
    "df['Industry of company'].replace({'Software Development':'Enterprise Software'},inplace=True)\n",
    "df['Industry of company'].replace({'software':'Enterprise Software'},inplace=True)\n",
    "df['Industry of company'].replace({'many':'Enterprise Software'},inplace=True)\n",
    "df['Industry of company'].replace({'enterprise':'Enterprise Software'},inplace=True)\n",
    "df['Industry of company'].replace({'development, marketing, and administration':'Enterprise Software'},inplace=True)\n",
    "df['Industry of company'].replace({'social media':'Social Media'},inplace=True)\n",
    "df['Industry of company'].replace({'service':'Services'},inplace=True)\n",
    "df['Industry of company'].replace({'research':'Market Research'},inplace=True)\n",
    "df['Industry of company'].replace({'search':'Market Research'},inplace=True)\n",
    "df['Industry of company'].replace({'Search':'Market Research'},inplace=True)\n",
    "df['Industry of company'].replace({'web':'Social Media'},inplace=True)\n",
    "df['Industry of company'].replace({'curated web':'Social Media'},inplace=True)\n",
    "df['Industry of company'].replace({'conssumer web':'Social Media'},inplace=True)\n",
    "df['Industry of company'].replace({'consumer web':'Social Media'},inplace=True)\n",
    "df['Industry of company'].replace({'social networking':'Network / Hosting / Infrastructure'},inplace=True)\n",
    "df['Industry of company'].replace({'social network':'Network / Hosting / Infrastructure'},inplace=True)\n",
    "df['Industry of company'].replace({'networking':'Network / Hosting / Infrastructure'},inplace=True)\n",
    "df['Industry of company'].replace({'CRM, Marketing, Human Resources':'CRM'},inplace=True)\n",
    "df['Industry of company'].replace({'Customer Retention, Customer Feedback':'CRM'},inplace=True)\n",
    "df['Industry of company'].replace({'game':'Gaming'},inplace=True)\n",
    "df['Industry of company'].replace({'games':'Gaming'},inplace=True)\n",
    "df['Industry of company'].replace({'strategy':'Strategy'},inplace=True)\n",
    "df['Industry of company'].replace({'marketing, strategy':'Strategy'},inplace=True)\n",
    "df['Industry of company'].replace({'advertising':'Advertising'},inplace=True)\n",
    "df['Industry of company'].replace({'Travel Planning':'Travel'},inplace=True)\n",
    "df['Industry of company'].replace({'mobile app development':'Mobile'},inplace=True)\n",
    "df['Industry of company'].replace({'energy':'Energy'},inplace=True)\n",
    "df['Industry of company'].replace({'security':'Security'},inplace=True)\n",
    "df['Industry of company'].replace({'ecommerce':'E-Commerce'},inplace=True)\n",
    "df['Industry of company'].replace({'Sales & Marketing':'Retail'},inplace=True)\n",
    "df['Industry of company'].replace({'Solution providing':'Solution Providing'},inplace=True)\n",
    "df['Industry of company'].replace({'Information management':'Information Management'},inplace=True)\n",
    "df['Industry of company'].replace({'Risk':'Finance'},inplace=True)\n",
    "\n",
    "# Replacing headers\n",
    "df.columns = ['STA', 'YOF', 'AGE', 'IAS', 'IND', 'SIZ', 'FUN', 'COU', 'CON',\n",
    "              'INS', 'INA', 'NCO', 'NAD', 'SEN', 'EMP', 'PRE', 'REP', 'SSM',\n",
    "              'TOP', 'AVC', 'PAS', 'SAS', 'BIG', 'EXP', 'PSC', 'CAV', 'DAT',\n",
    "              'CDA', 'SDA', 'SUB', 'CPB', 'PLA', 'MOD', 'CAP', 'PAR', 'CRS',\n",
    "              'CRF', 'MLB', 'PAB', 'SAB', 'PRB', 'BDB', 'CCA', 'OWN', 'AGG',\n",
    "              'OOV', 'B2V', 'TOF', 'AYE', 'EAG', 'BEV', 'EDU', 'YED', 'RED',\n",
    "              'REP', 'TIE', 'PRO', 'ESB', 'E1O', 'E5O', 'E10', 'TMS', 'REC',\n",
    "              'RES', 'SKI', 'TSC', 'DWF', 'PST', 'HYP', 'TTM', 'LTR', 'PPP',\n",
    "              'BAR', 'AWA', 'CHF', 'LRI', 'GPR', 'TPA', 'SOL', 'INC', 'TRE',\n",
    "              'DIS', 'NDC', 'EPY', 'SUR', 'TIM', 'AVT', 'PSE', 'PSO', 'PSG',\n",
    "              'PSM', 'PSL', 'PSD', 'PSB', 'PSP', 'PSS', 'PSD', 'PSL', 'PSC',\n",
    "              'PSF', 'PSI', 'PSR']\n",
    "\n",
    "# Created and store all data into a CSV file\n",
    "with open('CAX_Preprocessed_PROG.csv', 'w'):\n",
    "    pass\n",
    "pd.DataFrame(df).to_csv(\"CAX_Preprocessed_PROG.csv\", index=False, header=True)\n",
    "\n"
   ],
   "metadata": {
    "collapsed": false,
    "pycharm": {
     "name": "#%%\n"
    }
   }
  }
 ],
 "metadata": {
  "kernelspec": {
   "display_name": "Python 3",
   "language": "python",
   "name": "python3"
  },
  "language_info": {
   "codemirror_mode": {
    "name": "ipython",
    "version": 2
   },
   "file_extension": ".py",
   "mimetype": "text/x-python",
   "name": "python",
   "nbconvert_exporter": "python",
   "pygments_lexer": "ipython2",
   "version": "2.7.6"
  }
 },
 "nbformat": 4,
 "nbformat_minor": 0
}